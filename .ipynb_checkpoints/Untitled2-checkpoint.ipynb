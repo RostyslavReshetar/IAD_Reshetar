{
 "cells": [
  {
   "cell_type": "code",
   "execution_count": null,
   "id": "016555f2",
   "metadata": {
    "pycharm": {
     "name": "#%%\n"
    }
   },
   "outputs": [],
   "source": [
    "import pandas as pd\n",
    "import numpy as np"
   ]
  },
  {
   "cell_type": "code",
   "execution_count": null,
   "id": "a7b987af",
   "metadata": {
    "pycharm": {
     "name": "#%%\n"
    }
   },
   "outputs": [],
   "source": [
    "unames = ['user_id', 'gender', 'age', 'occupation', 'zip']\n",
    "data_users = pd.read_table(\"ml-1m/users.dat\", sep=\"::\", engine=\"python\", names=unames)\n",
    "data_users"
   ]
  },
  {
   "cell_type": "code",
   "execution_count": null,
   "id": "aae58b79",
   "metadata": {
    "pycharm": {
     "name": "#%%\n"
    }
   },
   "outputs": [],
   "source": [
    "'''age_group = pd.Series([], dtype='float64')\n",
    "\n",
    "for i in range(len(data_users)):\n",
    "    age = data_users['age'][i]\n",
    "    \n",
    "    if age < 18:\n",
    "        age_group[i] = \"0-17\"\n",
    "        continue\n",
    "    elif age < 26 and age > 17:\n",
    "        age_group[i] = '18-15'\n",
    "        continue\n",
    "    elif age > 25 and age < 31:\n",
    "        age_group[i] = '26-30'\n",
    "        continue\n",
    "    elif age > 30 and age < 36:\n",
    "        age_group[i] = '31-35'\n",
    "        continue\n",
    "    elif age > 35 and age < 41:\n",
    "        age_group[i] = '36-40'\n",
    "        continue\n",
    "    elif age > 40 and age < 46:\n",
    "        age_group[i] = '41-45'\n",
    "        continue\n",
    "    elif age > 45 and age < 51:\n",
    "        age_group[i] = '46-50'\n",
    "        continue\n",
    "    elif age > 50 and age < 56:\n",
    "        age_group[i] = '51-55'\n",
    "        continue\n",
    "    elif age > 55 and age < 61:\n",
    "        age_group[i] = '56-60'\n",
    "        continue\n",
    "    elif age > 60 and age < 66:\n",
    "        age_group[i] = '61-65'\n",
    "        continue\n",
    "    elif age > 65:\n",
    "        age_group[i] = '66-100'\n",
    "        continue\n",
    "\n",
    "data_users.insert(3, 'age_group', age_group)\n",
    "data_users'''"
   ]
  },
  {
   "cell_type": "code",
   "execution_count": null,
   "id": "71e4d423",
   "metadata": {
    "pycharm": {
     "name": "#%%\n"
    }
   },
   "outputs": [],
   "source": [
    "rnames = ['user_id', 'movie_id', 'rating', 'timestamp']\n",
    "data_ratings = pd.read_table(\"ml-1m/ratings.dat\", sep=\"::\", engine=\"python\", names=rnames)\n",
    "data_ratings"
   ]
  },
  {
   "cell_type": "code",
   "execution_count": null,
   "id": "0a287a91",
   "metadata": {
    "pycharm": {
     "name": "#%%\n"
    }
   },
   "outputs": [],
   "source": [
    "mnames = ['movie_id', 'title', 'genre']\n",
    "data_movies = pd.read_table(\"ml-1m/movies.dat\", sep=\"::\", engine=\"python\", encoding=\"windows-1251\", names=mnames)\n",
    "data_movies"
   ]
  },
  {
   "cell_type": "code",
   "execution_count": null,
   "id": "e46a67a3",
   "metadata": {
    "pycharm": {
     "name": "#%%\n"
    }
   },
   "outputs": [],
   "source": [
    "data_users.isnull().sum()"
   ]
  },
  {
   "cell_type": "code",
   "execution_count": null,
   "id": "a0b08144",
   "metadata": {
    "pycharm": {
     "name": "#%%\n"
    }
   },
   "outputs": [],
   "source": [
    "data_ratings.info()"
   ]
  },
  {
   "cell_type": "code",
   "execution_count": null,
   "id": "d20f130b",
   "metadata": {
    "pycharm": {
     "name": "#%%\n"
    }
   },
   "outputs": [],
   "source": [
    "users_ratings_merge = data_users.merge(data_ratings, left_on='user_id', right_on='user_id')\n",
    "users_ratings_merge"
   ]
  },
  {
   "cell_type": "code",
   "execution_count": null,
   "id": "37d848dc",
   "metadata": {
    "pycharm": {
     "name": "#%%\n"
    }
   },
   "outputs": [],
   "source": [
    "all_merged = users_ratings_merge.merge(data_movies, left_on='movie_id', right_on='movie_id')\n",
    "all_merged"
   ]
  },
  {
   "cell_type": "code",
   "execution_count": null,
   "id": "f00e3bc8",
   "metadata": {
    "pycharm": {
     "name": "#%%\n"
    }
   },
   "outputs": [],
   "source": [
    "ratings_by_title = all_merged.groupby('title').size()\n",
    "ratings_by_title.sort_values(ascending=False)\n",
    "ratings_by_title"
   ]
  },
  {
   "cell_type": "code",
   "execution_count": null,
   "id": "d6631b83",
   "metadata": {
    "pycharm": {
     "name": "#%%\n"
    }
   },
   "outputs": [],
   "source": [
    "ages = data_users.age.unique()\n",
    "genders = data_users.gender.unique()\n",
    "ages = np.sort(ages)\n",
    "ages"
   ]
  }
 ],
 "metadata": {
  "kernelspec": {
   "display_name": "Python 3 (ipykernel)",
   "language": "python",
   "name": "python3"
  },
  "language_info": {
   "codemirror_mode": {
    "name": "ipython",
    "version": 3
   },
   "file_extension": ".py",
   "mimetype": "text/x-python",
   "name": "python",
   "nbconvert_exporter": "python",
   "pygments_lexer": "ipython3",
   "version": "3.9.13"
  }
 },
 "nbformat": 4,
 "nbformat_minor": 5
}
